{
  "nbformat": 4,
  "nbformat_minor": 0,
  "metadata": {
    "colab": {
      "name": "IMS.ipynb",
      "provenance": []
    },
    "kernelspec": {
      "name": "python3",
      "display_name": "Python 3"
    },
    "language_info": {
      "name": "python"
    }
  },
  "cells": [
    {
      "cell_type": "code",
      "metadata": {
        "id": "UexfnU_foKu-"
      },
      "source": [
        "def newfiles():\n",
        "    # creating new files\n",
        "    import json\n",
        "\n",
        "    # product file\n",
        "    prod_dict = {}\n",
        "    cnt = json.dumps(prod_dict)\n",
        "    with open(\"products.txt\",\"a\") as fptr:\n",
        "        fptr.write(cnt)\n",
        "    \n",
        "    # order file\n",
        "    orderList = []\n",
        "    cnt = json.dumps(orderList)\n",
        "    with open(\"orders.txt\", 'a') as fptr:\n",
        "        fptr.write(cnt)\n",
        "\n",
        "    # customers file\n",
        "    cust_dict = {}\n",
        "    cnt = json.dumps(cust_dict)\n",
        "    with open(\"customers.txt\", 'a') as fptr:\n",
        "        fptr.write(cnt)"
      ],
      "execution_count": 1,
      "outputs": []
    },
    {
      "cell_type": "code",
      "metadata": {
        "id": "SSOq3PYJyt9q"
      },
      "source": [
        "def addProduct(prod_dict):\n",
        "    productId = int(input(\"Enter Product Id\"))\n",
        "    productName = input(\"Enter name of the product\")\n",
        "    productPrice = int(input(\"Enter price of the product\"))\n",
        "    productQuantity = int(input(\"Enter the quantity of the product available\"))\n",
        "    productCategory = input(\"Enter the category to which the product belongs\")\n",
        "    productSubCategory = input(\"Enter the sub-category of the product\")\n",
        "    productCompany = input(\"Enter the company name\")\n",
        "    prod_dict[productId] = {'productId': productId, \n",
        "                            'productName' : productName,                          \n",
        "                            'productPrice': productPrice,\n",
        "                            'productQuantity': productQuantity,\n",
        "                            'productCategory': productCategory,\n",
        "                            'productSubCategory': productSubCategory,\n",
        "                            'productCompany': productCompany\n",
        "                           }\n",
        "    print(\"Product added successfully!\")\n",
        "    return prod_dict"
      ],
      "execution_count": 3,
      "outputs": []
    },
    {
      "cell_type": "code",
      "metadata": {
        "id": "Hrh85Q9wyuAY"
      },
      "source": [
        "def addOrderItems(prod_dict, orderList):\n",
        "    \n",
        "    from datetime import datetime\n",
        "    \n",
        "    n = int(input(\"Enter the no. of products to add to inventory\"))\n",
        "    for i in range(n):\n",
        "        productId = int(input(\"Enter the Product Id\"))\n",
        "        qty = int(input(\"Enter the no. of items of the product to add\"))\n",
        "        prod_dict[productId]['productQuantity'] = prod_dict[productId].get([\"productQuantity\"],0) + qty\n",
        "        print(qty, \"units of\", \"the product with\", productId, \"has been successfully added to the inventory!\")\n",
        "    \n",
        "    #  updating the orderList\n",
        "    amt = 0\n",
        "    for order in cart:\n",
        "        amt += order['Price']\n",
        "    \n",
        "    dt = datetime.now()\n",
        "    new_dt = dt.strftime(\"%d/%m/%y %H:%M:%S\")\n",
        "    date = new_dt[:8]\n",
        "    time = new_dt[9:]\n",
        "    \n",
        "    ordType = \"Received\"\n",
        "    \n",
        "    dct = {\"Date\": date, \"Time\": time, \"Customer_Id\": custId, \"Amount\": amt, \"OrderType\": ordType}\n",
        "    orderList.append(dct)\n",
        "    \n",
        "    return (prod_dict, orderList)"
      ],
      "execution_count": 5,
      "outputs": []
    },
    {
      "cell_type": "code",
      "metadata": {
        "id": "YziNpLQhyuDu"
      },
      "source": [
        "def addCustomer():\n",
        "    custId = int(input(\"Enter your mobile number\"))\n",
        "    custName = input(\"Enter your name\")\n",
        "    cust_dict[custId] = custName\n",
        "    \n",
        "    return custId"
      ],
      "execution_count": 6,
      "outputs": []
    },
    {
      "cell_type": "code",
      "metadata": {
        "id": "5p96gejNyuG4"
      },
      "source": [
        "def placeOrder(prod_dict, orderList):\n",
        "    custId = int(input(\"Enter Customer Id\"))\n",
        "    if (custId not in cust_dict.keys()):\n",
        "        custId = addCustomer()\n",
        "    n = int(input(\"Enter the no. of products to order\"))\n",
        "    cart = []\n",
        "    for i in range(n):\n",
        "        productId = int(input(\"Enter the Product Id\"))\n",
        "        qty = int(input(\"Enter the no. of units of the product to order\"))\n",
        "        productQuantity = prod_dict[productId].get([\"productQuantity\"],0)\n",
        "        productPrice = prod_dict[productId]['productPrice']\n",
        "        if (productQuantity >= qty):\n",
        "                        prod_dict[productId]['productQuantity'] -= qty\n",
        "                        print(qty, \"units of\", \"the product with\", productId, \"has been successfully added to the inventory!\")\n",
        "                        dct = {'productID':productId, 'Quantity': qty, 'Price': qty * productPrice}\n",
        "                        cart.append(dct)\n",
        "        else:\n",
        "                        print(\"Required quantity of the product with product id\", productId, \"is not available.\")\n",
        "\n",
        "#     updating the orderList\n",
        "    amt = 0\n",
        "    for order in cart:\n",
        "        amt += order['Price']\n",
        "    \n",
        "    dt = datetime.now()\n",
        "    new_dt = dt.strftime(\"%d/%m/%y %H:%M:%S\")\n",
        "    date = new_dt[:8]\n",
        "    time = new_dt[9:]\n",
        "    \n",
        "    ordType = \"Delivered\"\n",
        "    \n",
        "    dct = {\"Date\": date, \"Time\": time, \"Customer_Id\": custId, \"Amount\": amt, \"OrderType\": ordType}\n",
        "    orderList.append(dct)\n",
        "    \n",
        "    return (prod_dict, orderList)"
      ],
      "execution_count": 7,
      "outputs": []
    },
    {
      "cell_type": "code",
      "metadata": {
        "id": "0FNz-sujyuJY"
      },
      "source": [
        "def showOrders(orderList):\n",
        "    showCashflow(orderList)\n",
        "    print(*orderList)\n"
      ],
      "execution_count": 8,
      "outputs": []
    },
    {
      "cell_type": "code",
      "metadata": {
        "id": "wecqqOusyuMD"
      },
      "source": [
        "def showInventory(prod_dict):\n",
        "    for prodId,prodDetails in prod_dict:\n",
        "        print(prodId, prodDetails)"
      ],
      "execution_count": 9,
      "outputs": []
    },
    {
      "cell_type": "code",
      "metadata": {
        "id": "VEyR9XuNyuOk"
      },
      "source": [
        "def showCustomers(cust_dict):\n",
        "    for custId,custName in cust_dict:\n",
        "        print(custId, custName)"
      ],
      "execution_count": 10,
      "outputs": []
    },
    {
      "cell_type": "code",
      "metadata": {
        "id": "tG-uatV6yuR-"
      },
      "source": [
        "def showCashflow(orderList):\n",
        "    amtCredit = 0\n",
        "    amtDebit = 0\n",
        "    \n",
        "    for order in orderList:\n",
        "        if(order['orderType'] == \"Delivered\"):\n",
        "            amtCredit += order['Amount']\n",
        "        else:\n",
        "            amtDebit += order['Amount']\n",
        "        \n",
        "        netAmount = amtCredit - amtDebit\n",
        "        if(netAmount >= 0):\n",
        "            print(\"Profit: Rs.\", netAmount)\n",
        "        else:\n",
        "            print(\"Loss: Rs.\", (netAmount * -1))"
      ],
      "execution_count": 11,
      "outputs": []
    },
    {
      "cell_type": "code",
      "metadata": {
        "id": "g_qwdCaQEgtH"
      },
      "source": [
        "newfiles()"
      ],
      "execution_count": 12,
      "outputs": []
    },
    {
      "cell_type": "code",
      "metadata": {
        "id": "RDPgyu1VEg3Q"
      },
      "source": [
        "# main function\n",
        "def main():\n",
        "    \n",
        "#     importing libraries\n",
        "    import json\n",
        "    import sys\n",
        "    \n",
        "#  reading files\n",
        "    with open(\"orders.txt\", 'r') as orders_fptr:\n",
        "        orderList = orders_fptr.read()\n",
        "#         orderList = json.loads(orderList)\n",
        "        print(orderList, type(orderList))\n",
        "        \n",
        "    \n",
        "    with open(\"products.txt\", 'r') as products_fptr:\n",
        "        prod_dict = products_fptr.read()\n",
        "#         prod_dict = json.loads(prod_dict)\n",
        "        print(prod_dict, type(prod_dict))\n",
        "        \n",
        "    \n",
        "    with open(\"customers.txt\", 'r') as customers_fptr:\n",
        "        cust_dict = customers_fptr.read()\n",
        "#         cust_dict = json.loads(cust_dict)\n",
        "        print(cust_dict, type(cust_dict))\n",
        "        \n",
        "    \n",
        "    \n",
        "    \n",
        "    print(\"Welcome to Inventory Management System\")\n",
        "    print(\"Select the operation you want to perform\")\n",
        "    print(\"1: To place order\")\n",
        "    print(\"2: To add items to inventory\")\n",
        "    print(\"3: To add a new product\")\n",
        "    print(\"4. To see inventory\")\n",
        "    print(\"5: To see order history\")\n",
        "    print(\"6: To see list of customers\")\n",
        "    print(\"7: To see the cashflow of inventory\")\n",
        "    print(\"8: To exit\")\n",
        "    \n",
        "    n = int(input(\"Enter the choice number\"))\n",
        "    if (n == 1):\n",
        "        prod_dict, orderList = placeOrder(prod_dict, orderList)\n",
        "        main()\n",
        "        \n",
        "    elif (n == 2):\n",
        "        prod_dict, orderList = addOrderItems(prod_dict, orderList)\n",
        "        main()\n",
        "        \n",
        "    elif (n == 3):\n",
        "        prod_dict = addProduct(prod_dict)\n",
        "        main()\n",
        "        \n",
        "    elif (n == 4):\n",
        "        showInventory(prod_dict)\n",
        "        main()\n",
        "        \n",
        "    elif (n == 5):\n",
        "        showOrders(orderlist)\n",
        "        main()\n",
        "        \n",
        "    elif (n == 6):\n",
        "        showCustomers(cust_dict)\n",
        "        main()\n",
        "        \n",
        "    elif (n == 7):\n",
        "        showCashflow()\n",
        "        main()\n",
        "        \n",
        "    else:\n",
        "        \n",
        "#         1. clearing content\n",
        "        with open(\"orders.txt\", 'r+') as f:\n",
        "            f.truncate(0)\n",
        "        with open(\"products.txt\", 'r+') as f:\n",
        "            f.truncate(0)\n",
        "        with open(\"products.txt\", 'r+') as f:\n",
        "            f.truncate(0)\n",
        "\n",
        "#         2. writing updated content in files\n",
        "        with open(\"orders.txt\", 'w') as orders_fptr:\n",
        "            orders_fptr.write(orderList)\n",
        "#             orders_fptr.write(json.dumps(orderList))\n",
        "        with open(\"products.txt\", 'w') as products_fptr:\n",
        "            products_fptr.write(prod_dict)\n",
        "#             products_fptr.write(json.dumps(prod_dict))\n",
        "        with open(\"customers.txt\", 'w') as customers_fptr:\n",
        "            customers_fptr.write(cust_dict)\n",
        "#             customers_fptr.write(json.dumps(cust_dict))\n",
        "    \n",
        "#         3. exiting from system\n",
        "        sys.exit(\"Program terminated!\")"
      ],
      "execution_count": 13,
      "outputs": []
    },
    {
      "cell_type": "code",
      "metadata": {
        "colab": {
          "base_uri": "https://localhost:8080/"
        },
        "id": "4z9x6hKHyuT5",
        "outputId": "406097a1-4f31-4909-d03a-43d037d5e2cd"
      },
      "source": [
        "main()"
      ],
      "execution_count": null,
      "outputs": [
        {
          "metadata": {
            "tags": null
          },
          "name": "stdout",
          "output_type": "stream",
          "text": [
            "[] <class 'str'>\n",
            "{} <class 'str'>\n",
            "{} <class 'str'>\n",
            "Welcome to Inventory Management System\n",
            "Select the operation you want to perform\n",
            "1: To place order\n",
            "2: To add items to inventory\n",
            "3: To add a new product\n",
            "4. To see inventory\n",
            "5: To see order history\n",
            "6: To see list of customers\n",
            "7: To see the cashflow of inventory\n",
            "8: To exit\n"
          ]
        }
      ]
    },
    {
      "cell_type": "code",
      "metadata": {
        "id": "spwFivZvyuVw"
      },
      "source": [
        "def clearContent():\n",
        "    with open(\"orders.txt\", 'r+') as f:\n",
        "        f.truncate(0)\n",
        "    with open(\"products.txt\", 'r+') as f:\n",
        "        f.truncate(0)\n",
        "    with open(\"customers.txt\", 'r+') as f:\n",
        "        f.truncate(0)"
      ],
      "execution_count": null,
      "outputs": []
    },
    {
      "cell_type": "code",
      "metadata": {
        "id": "iGBz4_EbIGFM"
      },
      "source": [
        "clearContent()"
      ],
      "execution_count": null,
      "outputs": []
    },
    {
      "cell_type": "code",
      "metadata": {
        "id": "KVcjft3zIGvr"
      },
      "source": [
        "newfiles()"
      ],
      "execution_count": null,
      "outputs": []
    },
    {
      "cell_type": "code",
      "metadata": {
        "id": "jsL1cdtqIHGb"
      },
      "source": [
        ""
      ],
      "execution_count": null,
      "outputs": []
    },
    {
      "cell_type": "code",
      "metadata": {
        "id": "vL1YvY81IGNi"
      },
      "source": [
        ""
      ],
      "execution_count": null,
      "outputs": []
    }
  ]
}